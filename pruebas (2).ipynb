{
 "cells": [
  {
   "attachments": {},
   "cell_type": "markdown",
   "metadata": {},
   "source": [
    "samples"
   ]
  },
  {
   "cell_type": "code",
   "execution_count": 45,
   "metadata": {},
   "outputs": [
    {
     "name": "stdout",
     "output_type": "stream",
     "text": [
      "hola mundos\n"
     ]
    }
   ],
   "source": [
    "print('hola mundos')"
   ]
  },
  {
   "cell_type": "code",
   "execution_count": 46,
   "metadata": {},
   "outputs": [
    {
     "name": "stdout",
     "output_type": "stream",
     "text": [
      "hola mundo\n"
     ]
    }
   ],
   "source": [
    "mensaje='hola mundo'\n",
    "print(mensaje)"
   ]
  },
  {
   "attachments": {},
   "cell_type": "markdown",
   "metadata": {},
   "source": [
    "condicionales"
   ]
  },
  {
   "cell_type": "code",
   "execution_count": 47,
   "metadata": {},
   "outputs": [
    {
     "name": "stdout",
     "output_type": "stream",
     "text": [
      "no se cumplio la condicion\n"
     ]
    }
   ],
   "source": [
    "N=5\n",
    "if N>5:\n",
    "    print('se cumplio la condicion')\n",
    "else:\n",
    "    print('no se cumplio la condicion')\n",
    "\n"
   ]
  },
  {
   "cell_type": "code",
   "execution_count": 48,
   "metadata": {},
   "outputs": [
    {
     "name": "stdout",
     "output_type": "stream",
     "text": [
      "no se cumplio ninguna condicion\n"
     ]
    }
   ],
   "source": [
    "N=16\n",
    "if N>5 and N<10:\n",
    "    print('se cumplio la condicion')\n",
    "elif N>1 and N<5:\n",
    "    print('no se cumplio la condicion')\n",
    "else:\n",
    "    print('no se cumplio ninguna condicion')\n"
   ]
  },
  {
   "cell_type": "code",
   "execution_count": 49,
   "metadata": {},
   "outputs": [
    {
     "name": "stdout",
     "output_type": "stream",
     "text": [
      "no es par\n"
     ]
    }
   ],
   "source": [
    "N=5\n",
    "if N%2 == 0:\n",
    "    print('es par')\n",
    "else:\n",
    "    print('no es par')"
   ]
  },
  {
   "cell_type": "code",
   "execution_count": 50,
   "metadata": {},
   "outputs": [
    {
     "name": "stdout",
     "output_type": "stream",
     "text": [
      "Iteración 0\n",
      "Iteración 1\n",
      "Iteración 2\n",
      "Iteración 3\n",
      "Iteración 4\n"
     ]
    }
   ],
   "source": [
    "for i in range(5):\n",
    "    print(\"Iteración\" +\" \"+ str(i))"
   ]
  },
  {
   "cell_type": "code",
   "execution_count": 51,
   "metadata": {},
   "outputs": [
    {
     "name": "stdout",
     "output_type": "stream",
     "text": [
      "Iteración: 0\n",
      "Iteración: 1\n",
      "Iteración: 2\n",
      "Iteración: 3\n"
     ]
    }
   ],
   "source": [
    "for i in range(5):\n",
    "    if i>3:\n",
    "        break\n",
    "    N=str(i)\n",
    "    print('Iteración: ' + N)\n"
   ]
  },
  {
   "attachments": {},
   "cell_type": "markdown",
   "metadata": {},
   "source": []
  },
  {
   "cell_type": "code",
   "execution_count": 52,
   "metadata": {},
   "outputs": [
    {
     "name": "stdout",
     "output_type": "stream",
     "text": [
      "Iteración: 0\n",
      "Iteración: 1\n",
      "Iteración: 2\n",
      "Iteración: 3\n",
      "Iteración: 4\n"
     ]
    }
   ],
   "source": [
    "for i in range(5):\n",
    "    if i>3:\n",
    "        pass\n",
    "    N=str(i)\n",
    "    print('Iteración: ' + N)"
   ]
  },
  {
   "cell_type": "code",
   "execution_count": 53,
   "metadata": {},
   "outputs": [
    {
     "name": "stdout",
     "output_type": "stream",
     "text": [
      "Iteración: 0\n",
      "Iteración: 1\n",
      "Iteración: 2\n",
      "Iteración: 3\n"
     ]
    }
   ],
   "source": [
    "for i in range(9):\n",
    "    if i>3:\n",
    "        continue\n",
    "    N=str(i)\n",
    "    print('Iteración: ' + N)"
   ]
  },
  {
   "attachments": {},
   "cell_type": "markdown",
   "metadata": {},
   "source": [
    "Crear un ciclo que imprima si un numero es par del 0 al 10"
   ]
  },
  {
   "cell_type": "code",
   "execution_count": 54,
   "metadata": {},
   "outputs": [
    {
     "name": "stdout",
     "output_type": "stream",
     "text": [
      "1 es impar\n",
      "2 es par\n",
      "3 es impar\n",
      "4 es par\n",
      "5 es impar\n",
      "6 es par\n",
      "7 es impar\n",
      "8 es par\n",
      "9 es impar\n",
      "10 es par\n"
     ]
    }
   ],
   "source": [
    "for i in range(11):\n",
    "    if i == 0:\n",
    "        continue\n",
    "    elif i%2 == 0:\n",
    "        print(str(i) + ' es par')\n",
    "    else:\n",
    "        print(str(i) + ' es impar')"
   ]
  },
  {
   "attachments": {},
   "cell_type": "markdown",
   "metadata": {},
   "source": [
    "Ciclo While"
   ]
  },
  {
   "cell_type": "code",
   "execution_count": 55,
   "metadata": {},
   "outputs": [
    {
     "name": "stdout",
     "output_type": "stream",
     "text": [
      "Numero menor a 5\n",
      "Numero menor a 5\n",
      "Numero menor a 5\n",
      "Numero menor a 5\n",
      "Numero menor a 5\n",
      "Numero menor a 5\n"
     ]
    }
   ],
   "source": [
    "N=0\n",
    "while N<=5:\n",
    "    print('Numero menor a 5')\n",
    "    N=N+1"
   ]
  },
  {
   "attachments": {},
   "cell_type": "markdown",
   "metadata": {},
   "source": [
    "Funciones"
   ]
  },
  {
   "cell_type": "code",
   "execution_count": 56,
   "metadata": {},
   "outputs": [],
   "source": [
    "def Par_o_Impar(N):\n",
    "    if N%2 == 0:\n",
    "        print('es par')\n",
    "    else:\n",
    "        print('no es par')\n",
    "\n",
    "    "
   ]
  },
  {
   "cell_type": "code",
   "execution_count": 57,
   "metadata": {},
   "outputs": [
    {
     "name": "stdout",
     "output_type": "stream",
     "text": [
      "es par\n"
     ]
    }
   ],
   "source": [
    "Par_o_Impar(2)"
   ]
  },
  {
   "cell_type": "code",
   "execution_count": 58,
   "metadata": {},
   "outputs": [],
   "source": [
    "def funcion1(N):\n",
    "    if N%2 == 0:\n",
    "        a='es par'\n",
    "    else:\n",
    "        a='no es par'\n",
    "    return a"
   ]
  },
  {
   "cell_type": "code",
   "execution_count": 59,
   "metadata": {},
   "outputs": [
    {
     "name": "stdout",
     "output_type": "stream",
     "text": [
      "es par\n"
     ]
    }
   ],
   "source": [
    "texto=funcion1(4)\n",
    "\n",
    "print(texto)"
   ]
  },
  {
   "attachments": {},
   "cell_type": "markdown",
   "metadata": {},
   "source": [
    "Crear una funcion que imprima un numero que es par del 1 al 10"
   ]
  },
  {
   "cell_type": "code",
   "execution_count": 60,
   "metadata": {},
   "outputs": [],
   "source": [
    "def funcion3():\n",
    "    for i in range(11):\n",
    "        if i == 0:\n",
    "            continue\n",
    "        elif i%2 == 0:\n",
    "            print(str(i) + ' es par')\n",
    "        else:\n",
    "            print(str(i) + ' es impar')"
   ]
  },
  {
   "cell_type": "code",
   "execution_count": 61,
   "metadata": {},
   "outputs": [
    {
     "name": "stdout",
     "output_type": "stream",
     "text": [
      "1 es impar\n",
      "2 es par\n",
      "3 es impar\n",
      "4 es par\n",
      "5 es impar\n",
      "6 es par\n",
      "7 es impar\n",
      "8 es par\n",
      "9 es impar\n",
      "10 es par\n"
     ]
    }
   ],
   "source": [
    "funcion3()"
   ]
  },
  {
   "attachments": {},
   "cell_type": "markdown",
   "metadata": {},
   "source": [
    "Listas \n"
   ]
  },
  {
   "cell_type": "code",
   "execution_count": 62,
   "metadata": {},
   "outputs": [],
   "source": [
    "x=[1,2,3,4,5]\n"
   ]
  },
  {
   "cell_type": "code",
   "execution_count": 63,
   "metadata": {},
   "outputs": [
    {
     "name": "stdout",
     "output_type": "stream",
     "text": [
      "[1, 2, 3, 4, 5]\n"
     ]
    }
   ],
   "source": [
    "print(x)"
   ]
  },
  {
   "cell_type": "code",
   "execution_count": 64,
   "metadata": {},
   "outputs": [],
   "source": [
    "y=['texto1','texto2',3,'texto3','texto4']"
   ]
  },
  {
   "cell_type": "code",
   "execution_count": 65,
   "metadata": {},
   "outputs": [
    {
     "data": {
      "text/plain": [
       "'texto1'"
      ]
     },
     "execution_count": 65,
     "metadata": {},
     "output_type": "execute_result"
    }
   ],
   "source": [
    "y[0]"
   ]
  },
  {
   "cell_type": "code",
   "execution_count": 66,
   "metadata": {},
   "outputs": [
    {
     "data": {
      "text/plain": [
       "5"
      ]
     },
     "execution_count": 66,
     "metadata": {},
     "output_type": "execute_result"
    }
   ],
   "source": [
    "len(y)"
   ]
  },
  {
   "cell_type": "code",
   "execution_count": 67,
   "metadata": {},
   "outputs": [
    {
     "name": "stdout",
     "output_type": "stream",
     "text": [
      "texto1\n",
      "texto2\n",
      "3\n",
      "texto3\n",
      "texto4\n"
     ]
    }
   ],
   "source": [
    "for i in range(len(y)):\n",
    "    print(y[i])\n",
    "    \n"
   ]
  },
  {
   "cell_type": "code",
   "execution_count": 2,
   "metadata": {},
   "outputs": [],
   "source": [
    "import pandas as pd\n",
    "import numpy as np"
   ]
  },
  {
   "cell_type": "code",
   "execution_count": null,
   "metadata": {},
   "outputs": [],
   "source": []
  },
  {
   "cell_type": "code",
   "execution_count": 3,
   "metadata": {},
   "outputs": [],
   "source": [
    "#carga de base de datos\n",
    "path1='C:/temporal/Python/read_excel_data/Entorno1/Data.xlsx'\n",
    "Excel=pd.read_excel(path1,sheet_name='Sheet1')\n"
   ]
  },
  {
   "cell_type": "code",
   "execution_count": 4,
   "metadata": {},
   "outputs": [
    {
     "name": "stdout",
     "output_type": "stream",
     "text": [
      "       Modelo   No_De_Serie      Clave1  \\\n",
      "0   G-1425G-B  ALCLFC2FFE3E  3UedDzRXCD   \n",
      "1       kdsss     ababababa     1111111   \n",
      "2       kdsss     ababababa     1111111   \n",
      "3       kdsss     ababababa     1111111   \n",
      "4     modelo2      noserie2     clave12   \n",
      "5        mod1          ser1        cla1   \n",
      "6        mod2          ser2        cla2   \n",
      "7       kdsss     ababababa     1111111   \n",
      "8      modelo     nodeserie      clave1   \n",
      "9      modelo     nodeserie      clave1   \n",
      "10     modelo     nodeserie      clave1   \n",
      "11     modelo     nodeserie      clave1   \n",
      "12     modelo     nodeserie      clave1   \n",
      "13     modelo     nodeserie      clave1   \n",
      "14      unico         unico       unico   \n",
      "\n",
      "                                              Clave2  \n",
      "0   EQH6HKiIKvD3XZ+fwcYJvnrnAXpZ5gIlOBoyUkOh7oHF9lM=  \n",
      "1                                           dsdsdsds  \n",
      "2                                           dsdsdsds  \n",
      "3                                           dsdsdsds  \n",
      "4                                            clave22  \n",
      "5                                               cla2  \n",
      "6                                               cla2  \n",
      "7                                           dsdsdsds  \n",
      "8                                             clave2  \n",
      "9                                             clave2  \n",
      "10                                            clave2  \n",
      "11                                            clave2  \n",
      "12                                            clave2  \n",
      "13                                            clave2  \n",
      "14                                             unico  \n"
     ]
    }
   ],
   "source": [
    "print(Excel)\n"
   ]
  },
  {
   "cell_type": "code",
   "execution_count": null,
   "metadata": {},
   "outputs": [
    {
     "data": {
      "text/plain": [
       "'ALCLFC2FFE3E'"
      ]
     },
     "execution_count": 14,
     "metadata": {},
     "output_type": "execute_result"
    }
   ],
   "source": [
    "Excel['No_De_Serie'][0]"
   ]
  },
  {
   "cell_type": "code",
   "execution_count": null,
   "metadata": {},
   "outputs": [],
   "source": [
    "n1=Excel['Clave1'][0]"
   ]
  },
  {
   "cell_type": "code",
   "execution_count": 5,
   "metadata": {},
   "outputs": [],
   "source": [
    "#lista de comandos\n",
    "path2= 'channel2.txt'\n",
    "com= np.loadtxt(path2,dtype=str,delimiter=\",\")\n"
   ]
  },
  {
   "cell_type": "code",
   "execution_count": null,
   "metadata": {},
   "outputs": [
    {
     "name": "stdout",
     "output_type": "stream",
     "text": [
      "cfgcli -g InternetGatewayDevice.LANDevice.1.WLANConfiguration.1.ChannelsInUse\n",
      "cfgcli -s InternetGatewayDevice.LANDevice.1.WLANConfiguration.1.Channel 001\n",
      "cfgcli -g InternetGatewayDevice.LANDevice.1.WLANConfiguration.1.ChannelsInUse\n",
      "cfgcli -s InternetGatewayDevice.LANDevice.1.WLANConfiguration.1.Channel 002\n",
      "cfgcli -g InternetGatewayDevice.LANDevice.1.WLANConfiguration.1.ChannelsInUse\n",
      "cfgcli -s InternetGatewayDevice.LANDevice.1.WLANConfiguration.1.Channel 003\n",
      "cfgcli -g InternetGatewayDevice.LANDevice.1.WLANConfiguration.1.ChannelsInUse\n",
      "cfgcli -s InternetGatewayDevice.LANDevice.1.WLANConfiguration.1.Channel 004\n",
      "cfgcli -g InternetGatewayDevice.LANDevice.1.WLANConfiguration.1.ChannelsInUse\n",
      "cfgcli -s InternetGatewayDevice.LANDevice.1.WLANConfiguration.1.Channel 005\n",
      "cfgcli -g InternetGatewayDevice.LANDevice.1.WLANConfiguration.1.ChannelsInUse\n",
      "cfgcli -s InternetGatewayDevice.LANDevice.1.WLANConfiguration.1.Channel 006\n",
      "cfgcli -g InternetGatewayDevice.LANDevice.1.WLANConfiguration.1.ChannelsInUse\n",
      "cfgcli -s InternetGatewayDevice.LANDevice.1.WLANConfiguration.1.Channel 007\n",
      "cfgcli -g InternetGatewayDevice.LANDevice.1.WLANConfiguration.1.ChannelsInUse\n",
      "cfgcli -s InternetGatewayDevice.LANDevice.1.WLANConfiguration.1.Channel 008\n",
      "cfgcli -g InternetGatewayDevice.LANDevice.1.WLANConfiguration.1.ChannelsInUse\n",
      "cfgcli -s InternetGatewayDevice.LANDevice.1.WLANConfiguration.1.Channel 009\n",
      "cfgcli -g InternetGatewayDevice.LANDevice.1.WLANConfiguration.1.ChannelsInUse\n",
      "cfgcli -s InternetGatewayDevice.LANDevice.1.WLANConfiguration.1.Channel 010\n",
      "cfgcli -g InternetGatewayDevice.LANDevice.1.WLANConfiguration.1.ChannelsInUse\n",
      "cfgcli -s InternetGatewayDevice.LANDevice.1.WLANConfiguration.1.Channel 011\n",
      "cfgcli -g InternetGatewayDevice.LANDevice.1.WLANConfiguration.1.ChannelsInUse\n",
      "cfgcli -s InternetGatewayDevice.LANDevice.1.WLANConfiguration.1.Channel 000\n",
      "cfgcli -g InternetGatewayDevice.LANDevice.1.WLANConfiguration.1.ChannelsInUse\n"
     ]
    }
   ],
   "source": [
    "for i in range(len(com)):\n",
    "    print(com[i])"
   ]
  },
  {
   "cell_type": "code",
   "execution_count": 6,
   "metadata": {},
   "outputs": [],
   "source": [
    "import pandas as pd\n",
    "import numpy as np\n",
    "\n",
    "#carga de base de datos\n",
    "path1='Data.xlsx'\n",
    "Excel=pd.read_excel(path1,sheet_name='Sheet1')\n"
   ]
  },
  {
   "cell_type": "code",
   "execution_count": 8,
   "metadata": {},
   "outputs": [
    {
     "name": "stdout",
     "output_type": "stream",
     "text": [
      "Index([0], dtype='int64')\n",
      "0\n"
     ]
    }
   ],
   "source": [
    "#queremos obtener las claves de una ont en especifico\n",
    "#FE3E\n",
    "\n",
    "n= 'ALCLFC2FFE3E'\n",
    "\n",
    "x= Excel.index[Excel['No_De_Serie']==n]\n",
    "print (x)\n",
    "x= x[0] #para quitar el formato del comando index\n",
    "print(x)\n",
    "\n",
    "#guardamos las credenciales\n",
    "pass1= str(Excel['Clave1'][x])\n",
    "pass2= str(Excel['Clave2'][x])"
   ]
  },
  {
   "cell_type": "code",
   "execution_count": 9,
   "metadata": {},
   "outputs": [
    {
     "name": "stdout",
     "output_type": "stream",
     "text": [
      "0\n",
      "3UedDzRXCD\n",
      "EQH6HKiIKvD3XZ+fwcYJvnrnAXpZ5gIlOBoyUkOh7oHF9lM=\n"
     ]
    }
   ],
   "source": [
    "print(x)\n",
    "print(pass1)\n",
    "print(pass2)\n"
   ]
  },
  {
   "cell_type": "code",
   "execution_count": 10,
   "metadata": {},
   "outputs": [],
   "source": [
    "#queremos obtener las claves de una ont en especifico\n",
    "#FE3E\n",
    "\n",
    "n= input('Ingrese el numero de serie: ')\n",
    "\n",
    "x= Excel.index[Excel['No_De_Serie']==n]\n",
    "x= x[0] #para quitar el formato del comando index\n",
    "\n",
    "#guardamos las credenciales\n",
    "pass1= str(Excel['Clave1'][x])\n",
    "pass2= str(Excel['Clave2'][x])"
   ]
  },
  {
   "attachments": {},
   "cell_type": "markdown",
   "metadata": {},
   "source": [
    "como guardar cambios en el excel"
   ]
  },
  {
   "cell_type": "code",
   "execution_count": 11,
   "metadata": {},
   "outputs": [],
   "source": [
    "#carga de base de datos\n",
    "path1='Data.xlsx'\n",
    "Excel=pd.read_excel(path1,sheet_name='Sheet1')\n",
    "\n",
    "#obtener el index d ela ultima fila\n",
    "ultima_fila= Excel.index[-1]\n",
    "\n",
    "n1= 'kdsss'; n2='ababababa';n3= '1111111';n4='dsdsdsds'\n",
    "\n",
    "Excel.loc[ultima_fila+1,'Modelo'] = n1\n",
    "Excel.loc[ultima_fila+1,'No_De_Serie'] = n2\n",
    "Excel.loc[ultima_fila+1,'Clave1'] = n3\n",
    "Excel.loc[ultima_fila+1,'Clave2'] = n4\n",
    "\n",
    "#guardar los cambios en el archivo en excel\n",
    "Excel.to_excel(path1,sheet_name=\"Sheet1\", index=False, header=True)\n",
    "\n"
   ]
  },
  {
   "cell_type": "code",
   "execution_count": 12,
   "metadata": {},
   "outputs": [
    {
     "name": "stdout",
     "output_type": "stream",
     "text": [
      "17\n"
     ]
    }
   ],
   "source": [
    "print(ultima_fila)"
   ]
  },
  {
   "cell_type": "code",
   "execution_count": 14,
   "metadata": {},
   "outputs": [],
   "source": [
    "#carga de base de datos\n",
    "path1='Data.xlsx'\n",
    "Excel=pd.read_excel(path1,sheet_name='Sheet1')\n",
    "\n",
    "n= 'ababababa'\n",
    "x= Excel.index[Excel['No_De_Serie']==n]\n",
    "x= x[0]\n",
    "\n",
    "Excel = Excel.drop(x)\n",
    "\n",
    "#guardar los cambios en el archivo en excel\n",
    "Excel.to_excel(path1,sheet_name=\"Sheet1\", index=False, header=True)"
   ]
  },
  {
   "attachments": {},
   "cell_type": "markdown",
   "metadata": {},
   "source": [
    "Crear un script donde te deje elegir si quieres ingresar nuevos datos bajo el formato del excel visto o como segunda opción si deseas consultar contraseñas de una ONT en especifico"
   ]
  },
  {
   "cell_type": "code",
   "execution_count": 18,
   "metadata": {},
   "outputs": [
    {
     "name": "stdout",
     "output_type": "stream",
     "text": [
      "El valor de clave1 es: unico\n",
      "El valor de clave2 es: unico\n"
     ]
    }
   ],
   "source": [
    "import pandas as pd\n",
    "import numpy as np\n",
    "\n",
    "#preguntar que opcion elige el usuario\n",
    "op = input('Elige alguna de las siguientes opciones: \\n(1) Ingresar nuevos datos o \\n(2) Consultar datos existentes')\n",
    "op = str(op)\n",
    "\n",
    "#condicional \n",
    "if op == '1':\n",
    "    #carga de base de datos\n",
    "    path1='Data.xlsx'\n",
    "    Excel=pd.read_excel(path1,sheet_name='Sheet1')\n",
    "\n",
    "    #obtener el index dela ultima fila\n",
    "    ultima_fila= Excel.index[-1]\n",
    "\n",
    "    n1 = input('Ingresa el modelo: ')\n",
    "    n2 = input('Ingresa el número de serie: ')\n",
    "    n3 = input('Ingresa la clave1: ')\n",
    "    n4 = input('Ingresa la clave2: ')\n",
    "    #n1= 'kdsss'; n2='ababababa';n3= '1111111';n4='dsdsdsds'\n",
    "\n",
    "    Excel.loc[ultima_fila+1,'Modelo'] = n1\n",
    "    Excel.loc[ultima_fila+1,'No_De_Serie'] = n2\n",
    "    Excel.loc[ultima_fila+1,'Clave1'] = n3\n",
    "    Excel.loc[ultima_fila+1,'Clave2'] = n4\n",
    "\n",
    "    #guardar los cambios en el archivo en excel\n",
    "    Excel.to_excel(path1,sheet_name=\"Sheet1\", index=False, header=True)\n",
    "\n",
    "    print(\"los datos agregados fueron: \" + n1, n2, n3, n4)\n",
    "\n",
    "elif op == '2':\n",
    "    #queremos obtener las claves de una ont en especifico\n",
    "    #FE3E\n",
    "\n",
    "    #n= 'ALCLFC2FFE3E'\n",
    "    ns= input('Ingrese el numero de serie: ')\n",
    "\n",
    "    x= Excel.index[Excel['No_De_Serie']==ns]\n",
    "    x= x[0] #para quitar el formato del comando index\n",
    "\n",
    "    #guardamos las credenciales\n",
    "    pass1= str(Excel['Clave1'][x])\n",
    "    pass2= str(Excel['Clave2'][x])\n",
    "\n",
    "    print(\"El valor de clave1 es: \" + pass1)\n",
    "    print(\"El valor de clave2 es: \" + pass2)\n",
    "\n",
    "else:\n",
    "    print('No es una opción válida')\n",
    "\n",
    "\n"
   ]
  },
  {
   "cell_type": "code",
   "execution_count": 16,
   "metadata": {},
   "outputs": [
    {
     "name": "stdout",
     "output_type": "stream",
     "text": [
      "2\n"
     ]
    }
   ],
   "source": [
    "print(op)"
   ]
  },
  {
   "attachments": {},
   "cell_type": "markdown",
   "metadata": {},
   "source": [
    "conexion telnet"
   ]
  },
  {
   "cell_type": "code",
   "execution_count": 11,
   "metadata": {},
   "outputs": [
    {
     "ename": "KeyboardInterrupt",
     "evalue": "",
     "output_type": "error",
     "traceback": [
      "\u001b[1;31m---------------------------------------------------------------------------\u001b[0m",
      "\u001b[1;31mTimeoutError\u001b[0m                              Traceback (most recent call last)",
      "File \u001b[1;32m~\\AppData\\Local\\Programs\\Python\\Python311\\Lib\\socket.py:836\u001b[0m, in \u001b[0;36mcreate_connection\u001b[1;34m(address, timeout, source_address, all_errors)\u001b[0m\n\u001b[0;32m    835\u001b[0m     sock\u001b[39m.\u001b[39mbind(source_address)\n\u001b[1;32m--> 836\u001b[0m sock\u001b[39m.\u001b[39;49mconnect(sa)\n\u001b[0;32m    837\u001b[0m \u001b[39m# Break explicitly a reference cycle\u001b[39;00m\n",
      "\u001b[1;31mTimeoutError\u001b[0m: [WinError 10060] Se produjo un error durante el intento de conexión ya que la parte conectada no respondió adecuadamente tras un periodo de tiempo, o bien se produjo un error en la conexión establecida ya que el host conectado no ha podido responder",
      "\nDuring handling of the above exception, another exception occurred:\n",
      "\u001b[1;31mKeyboardInterrupt\u001b[0m                         Traceback (most recent call last)",
      "Cell \u001b[1;32mIn[11], line 10\u001b[0m\n\u001b[0;32m      7\u001b[0m password1 \u001b[39m=\u001b[39m \u001b[39m'\u001b[39m\u001b[39m'\u001b[39m\n\u001b[0;32m      8\u001b[0m password2 \u001b[39m=\u001b[39m \u001b[39m'\u001b[39m\u001b[39m'\u001b[39m\n\u001b[1;32m---> 10\u001b[0m tn \u001b[39m=\u001b[39m telnetlib\u001b[39m.\u001b[39;49mTelnet(host)\n\u001b[0;32m     12\u001b[0m tn\u001b[39m.\u001b[39mread_until(\u001b[39mb\u001b[39m\u001b[39m'\u001b[39m\u001b[39mAONT Login:\u001b[39m\u001b[39m'\u001b[39m)\n\u001b[0;32m     13\u001b[0m tn\u001b[39m.\u001b[39mwrite(user\u001b[39m.\u001b[39mencode(\u001b[39m'\u001b[39m\u001b[39mascii\u001b[39m\u001b[39m'\u001b[39m) \u001b[39m+\u001b[39m \u001b[39mb\u001b[39m\u001b[39m\"\u001b[39m\u001b[39m\\n\u001b[39;00m\u001b[39m\"\u001b[39m)\n",
      "File \u001b[1;32m~\\AppData\\Local\\Programs\\Python\\Python311\\Lib\\telnetlib.py:221\u001b[0m, in \u001b[0;36mTelnet.__init__\u001b[1;34m(self, host, port, timeout)\u001b[0m\n\u001b[0;32m    219\u001b[0m \u001b[39mself\u001b[39m\u001b[39m.\u001b[39moption_callback \u001b[39m=\u001b[39m \u001b[39mNone\u001b[39;00m\n\u001b[0;32m    220\u001b[0m \u001b[39mif\u001b[39;00m host \u001b[39mis\u001b[39;00m \u001b[39mnot\u001b[39;00m \u001b[39mNone\u001b[39;00m:\n\u001b[1;32m--> 221\u001b[0m     \u001b[39mself\u001b[39;49m\u001b[39m.\u001b[39;49mopen(host, port, timeout)\n",
      "File \u001b[1;32m~\\AppData\\Local\\Programs\\Python\\Python311\\Lib\\telnetlib.py:238\u001b[0m, in \u001b[0;36mTelnet.open\u001b[1;34m(self, host, port, timeout)\u001b[0m\n\u001b[0;32m    236\u001b[0m \u001b[39mself\u001b[39m\u001b[39m.\u001b[39mtimeout \u001b[39m=\u001b[39m timeout\n\u001b[0;32m    237\u001b[0m sys\u001b[39m.\u001b[39maudit(\u001b[39m\"\u001b[39m\u001b[39mtelnetlib.Telnet.open\u001b[39m\u001b[39m\"\u001b[39m, \u001b[39mself\u001b[39m, host, port)\n\u001b[1;32m--> 238\u001b[0m \u001b[39mself\u001b[39m\u001b[39m.\u001b[39msock \u001b[39m=\u001b[39m socket\u001b[39m.\u001b[39;49mcreate_connection((host, port), timeout)\n",
      "File \u001b[1;32m~\\AppData\\Local\\Programs\\Python\\Python311\\Lib\\socket.py:843\u001b[0m, in \u001b[0;36mcreate_connection\u001b[1;34m(address, timeout, source_address, all_errors)\u001b[0m\n\u001b[0;32m    841\u001b[0m \u001b[39mexcept\u001b[39;00m error \u001b[39mas\u001b[39;00m exc:\n\u001b[0;32m    842\u001b[0m     \u001b[39mif\u001b[39;00m \u001b[39mnot\u001b[39;00m all_errors:\n\u001b[1;32m--> 843\u001b[0m         exceptions\u001b[39m.\u001b[39;49mclear()  \u001b[39m# raise only the last error\u001b[39;00m\n\u001b[0;32m    844\u001b[0m     exceptions\u001b[39m.\u001b[39mappend(exc)\n\u001b[0;32m    845\u001b[0m     \u001b[39mif\u001b[39;00m sock \u001b[39mis\u001b[39;00m \u001b[39mnot\u001b[39;00m \u001b[39mNone\u001b[39;00m:\n",
      "\u001b[1;31mKeyboardInterrupt\u001b[0m: "
     ]
    }
   ],
   "source": [
    "import telnetlib\n",
    "\n",
    "#colocar datos de la conexión telnet\n",
    "\n",
    "host = '192.168.1.254'\n",
    "user = 'TELMEX'\n",
    "password1 = ''\n",
    "password2 = ''\n",
    "\n",
    "tn = telnetlib.Telnet(host)\n",
    "\n",
    "tn.read_until(b'AONT Login')\n",
    "tn.write(user.encode('ascii') + b\"\\n\")\n",
    "\n",
    "tn.read_until(b'Password')\n",
    "tn.write(password1.encode('ascii') + b\"\\n\")\n",
    "\n",
    "tn.write(b\"enable\\n\")\n",
    "tn.write(b\"shell\\n\")\n",
    "\n",
    "tn.read_until(b'Password2')\n",
    "tn.write(password2.encode('ascii') + b\"\\n\")\n",
    "\n",
    "tn.write(b\"a\\n\")\n",
    "info = tn.read_until(b\"-sh: a: not found\").decode(\"ascii\")\n",
    "print(info)\n",
    "\n",
    "\n",
    "\n",
    "\n",
    "\n",
    "\n",
    "\n",
    "\n",
    "\n",
    "\n"
   ]
  },
  {
   "cell_type": "code",
   "execution_count": null,
   "metadata": {},
   "outputs": [],
   "source": [
    "from tkinter import *\n",
    "from tkinter import ttk\n",
    "root = Tk()\n",
    "frm = ttk.Frame(root, padding=10)\n",
    "frm.grid()\n",
    "ttk.Label(frm, text=\"Hello World!\").grid(column=0, row=0)\n",
    "ttk.Button(frm, text=\"Quit\", command=root.destroy).grid(column=1, row=0)\n",
    "root.mainloop()"
   ]
  }
 ],
 "metadata": {
  "kernelspec": {
   "display_name": "Entorno1",
   "language": "python",
   "name": "python3"
  },
  "language_info": {
   "codemirror_mode": {
    "name": "ipython",
    "version": 3
   },
   "file_extension": ".py",
   "mimetype": "text/x-python",
   "name": "python",
   "nbconvert_exporter": "python",
   "pygments_lexer": "ipython3",
   "version": "3.12.3"
  },
  "orig_nbformat": 4
 },
 "nbformat": 4,
 "nbformat_minor": 2
}
